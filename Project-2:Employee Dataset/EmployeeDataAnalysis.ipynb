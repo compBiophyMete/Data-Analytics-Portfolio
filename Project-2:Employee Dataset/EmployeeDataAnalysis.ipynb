{
 "cells": [
  {
   "cell_type": "markdown",
   "id": "29582de8",
   "metadata": {},
   "source": [
    "# Employee Dataset"
   ]
  },
  {
   "cell_type": "markdown",
   "id": "627dc979",
   "metadata": {},
   "source": [
    "## About dataset"
   ]
  },
  {
   "cell_type": "markdown",
   "id": "b3f5e966",
   "metadata": {},
   "source": [
    "### Context"
   ]
  },
  {
   "cell_type": "markdown",
   "id": "f3b48b19",
   "metadata": {},
   "source": [
    "The dataset used here encompasses information regarding employees in a company, such as educational backgrounds, work history, demographics, and employment-related factors. \n",
    "\n",
    "#### Columns:\n",
    "* Education: The educational qualification details\n",
    "* Joining year: The year each employee joined the company\n",
    "* City: The location where each employee is based\n",
    "* Payment tier: Categorization of employees into different salary tiers\n",
    "* Age: The age of each employee\n",
    "* Gender: Gender of each employee\n",
    "* Ever benched: indicating if an employee has ever been temporarily without assigned work.\n",
    "* Experience in current domain: The number of years of experience in the current field\n",
    "* Leave or not: A target column"
   ]
  },
  {
   "cell_type": "markdown",
   "id": "999d303f",
   "metadata": {},
   "source": [
    "## Data availability"
   ]
  },
  {
   "cell_type": "markdown",
   "id": "e6fb48f4",
   "metadata": {},
   "source": [
    "This data is retrieved from https://www.kaggle.com/datasets/tawfikelmetwally/employee-dataset under the license of CC9: Public Domain with usability of 9.41.\n",
    "\n",
    "The dataset has been already anonmyzied for privacy."
   ]
  },
  {
   "cell_type": "markdown",
   "id": "4b9edfee",
   "metadata": {},
   "source": [
    "## Aims of the project "
   ]
  },
  {
   "cell_type": "markdown",
   "id": "5e40b625",
   "metadata": {},
   "source": [
    "Herein, it is set out to address the following issues:\n",
    "\n",
    "* The gender distribution\n",
    "\n",
    "* The distribution of educational qualifications among employees\n",
    "\n",
    "* The distribution of educational qualifications among employees by gender\n",
    "\n",
    "* The number of recruited employee over the years\n",
    "\n",
    "* The correlation between payment tier and experience in current domain\n",
    "\n",
    "* Any Patterns in leave-taking behavior among employees"
   ]
  },
  {
   "cell_type": "markdown",
   "id": "5cbc8fc8",
   "metadata": {},
   "source": [
    "### Installing necessary libraries"
   ]
  },
  {
   "cell_type": "code",
   "execution_count": 1,
   "id": "14ba53a4",
   "metadata": {},
   "outputs": [],
   "source": [
    "#%pip install numpy\n",
    "#%pipinstall pandas\n",
    "#%pip install seaborn\n",
    "#%pip install matplotlib\n",
    "#%pip install opendatasets"
   ]
  },
  {
   "cell_type": "markdown",
   "id": "7a912929",
   "metadata": {},
   "source": [
    "### Importing libraries"
   ]
  },
  {
   "cell_type": "code",
   "execution_count": 2,
   "id": "28354e5b",
   "metadata": {},
   "outputs": [],
   "source": [
    "import opendatasets as od\n",
    "import numpy as np\n",
    "import pandas as pd\n",
    "import matplotlib.pyplot as plt\n",
    "import seaborn as sns"
   ]
  },
  {
   "cell_type": "markdown",
   "id": "1eecdb4c",
   "metadata": {},
   "source": [
    "### Retrieving the dataset"
   ]
  },
  {
   "cell_type": "code",
   "execution_count": 3,
   "id": "9c1bf755",
   "metadata": {},
   "outputs": [
    {
     "name": "stdout",
     "output_type": "stream",
     "text": [
      "Skipping, found downloaded files in \"./employee-dataset\" (use force=True to force download)\n"
     ]
    }
   ],
   "source": [
    "od.download('https://www.kaggle.com/datasets/tawfikelmetwally/employee-dataset')"
   ]
  },
  {
   "cell_type": "code",
   "execution_count": 4,
   "id": "40d980f7",
   "metadata": {},
   "outputs": [
    {
     "name": "stdout",
     "output_type": "stream",
     "text": [
      "EmployeeDataAnalysis.ipynb       Project-1_EmployeeDataset.html\r\n",
      "Project-1:EmployeeDataset.ipynb  \u001b[34memployee-dataset\u001b[m\u001b[m/\r\n"
     ]
    }
   ],
   "source": [
    "%ls"
   ]
  },
  {
   "cell_type": "markdown",
   "id": "e9e6a6df",
   "metadata": {},
   "source": [
    "### Reading the dataset"
   ]
  },
  {
   "cell_type": "code",
   "execution_count": 5,
   "id": "6ed873b4",
   "metadata": {},
   "outputs": [],
   "source": [
    "df = pd.read_csv('employee-dataset/Employee.csv')"
   ]
  },
  {
   "cell_type": "code",
   "execution_count": 6,
   "id": "c7cf9dfa",
   "metadata": {},
   "outputs": [
    {
     "data": {
      "text/html": [
       "<div>\n",
       "<style scoped>\n",
       "    .dataframe tbody tr th:only-of-type {\n",
       "        vertical-align: middle;\n",
       "    }\n",
       "\n",
       "    .dataframe tbody tr th {\n",
       "        vertical-align: top;\n",
       "    }\n",
       "\n",
       "    .dataframe thead th {\n",
       "        text-align: right;\n",
       "    }\n",
       "</style>\n",
       "<table border=\"1\" class=\"dataframe\">\n",
       "  <thead>\n",
       "    <tr style=\"text-align: right;\">\n",
       "      <th></th>\n",
       "      <th>Education</th>\n",
       "      <th>JoiningYear</th>\n",
       "      <th>City</th>\n",
       "      <th>PaymentTier</th>\n",
       "      <th>Age</th>\n",
       "      <th>Gender</th>\n",
       "      <th>EverBenched</th>\n",
       "      <th>ExperienceInCurrentDomain</th>\n",
       "      <th>LeaveOrNot</th>\n",
       "    </tr>\n",
       "  </thead>\n",
       "  <tbody>\n",
       "    <tr>\n",
       "      <th>0</th>\n",
       "      <td>Bachelors</td>\n",
       "      <td>2017</td>\n",
       "      <td>Bangalore</td>\n",
       "      <td>3</td>\n",
       "      <td>34</td>\n",
       "      <td>Male</td>\n",
       "      <td>No</td>\n",
       "      <td>0</td>\n",
       "      <td>0</td>\n",
       "    </tr>\n",
       "    <tr>\n",
       "      <th>1</th>\n",
       "      <td>Bachelors</td>\n",
       "      <td>2013</td>\n",
       "      <td>Pune</td>\n",
       "      <td>1</td>\n",
       "      <td>28</td>\n",
       "      <td>Female</td>\n",
       "      <td>No</td>\n",
       "      <td>3</td>\n",
       "      <td>1</td>\n",
       "    </tr>\n",
       "    <tr>\n",
       "      <th>2</th>\n",
       "      <td>Bachelors</td>\n",
       "      <td>2014</td>\n",
       "      <td>New Delhi</td>\n",
       "      <td>3</td>\n",
       "      <td>38</td>\n",
       "      <td>Female</td>\n",
       "      <td>No</td>\n",
       "      <td>2</td>\n",
       "      <td>0</td>\n",
       "    </tr>\n",
       "    <tr>\n",
       "      <th>3</th>\n",
       "      <td>Masters</td>\n",
       "      <td>2016</td>\n",
       "      <td>Bangalore</td>\n",
       "      <td>3</td>\n",
       "      <td>27</td>\n",
       "      <td>Male</td>\n",
       "      <td>No</td>\n",
       "      <td>5</td>\n",
       "      <td>1</td>\n",
       "    </tr>\n",
       "    <tr>\n",
       "      <th>4</th>\n",
       "      <td>Masters</td>\n",
       "      <td>2017</td>\n",
       "      <td>Pune</td>\n",
       "      <td>3</td>\n",
       "      <td>24</td>\n",
       "      <td>Male</td>\n",
       "      <td>Yes</td>\n",
       "      <td>2</td>\n",
       "      <td>1</td>\n",
       "    </tr>\n",
       "  </tbody>\n",
       "</table>\n",
       "</div>"
      ],
      "text/plain": [
       "   Education  JoiningYear       City  PaymentTier  Age  Gender EverBenched  \\\n",
       "0  Bachelors         2017  Bangalore            3   34    Male          No   \n",
       "1  Bachelors         2013       Pune            1   28  Female          No   \n",
       "2  Bachelors         2014  New Delhi            3   38  Female          No   \n",
       "3    Masters         2016  Bangalore            3   27    Male          No   \n",
       "4    Masters         2017       Pune            3   24    Male         Yes   \n",
       "\n",
       "   ExperienceInCurrentDomain  LeaveOrNot  \n",
       "0                          0           0  \n",
       "1                          3           1  \n",
       "2                          2           0  \n",
       "3                          5           1  \n",
       "4                          2           1  "
      ]
     },
     "execution_count": 6,
     "metadata": {},
     "output_type": "execute_result"
    }
   ],
   "source": [
    "df.head()"
   ]
  },
  {
   "cell_type": "markdown",
   "id": "c1bfe51e",
   "metadata": {},
   "source": [
    "### Concise summary of the dataset"
   ]
  },
  {
   "cell_type": "code",
   "execution_count": 7,
   "id": "5f6c2c17",
   "metadata": {},
   "outputs": [
    {
     "name": "stdout",
     "output_type": "stream",
     "text": [
      "<class 'pandas.core.frame.DataFrame'>\n",
      "RangeIndex: 4653 entries, 0 to 4652\n",
      "Data columns (total 9 columns):\n",
      " #   Column                     Non-Null Count  Dtype \n",
      "---  ------                     --------------  ----- \n",
      " 0   Education                  4653 non-null   object\n",
      " 1   JoiningYear                4653 non-null   int64 \n",
      " 2   City                       4653 non-null   object\n",
      " 3   PaymentTier                4653 non-null   int64 \n",
      " 4   Age                        4653 non-null   int64 \n",
      " 5   Gender                     4653 non-null   object\n",
      " 6   EverBenched                4653 non-null   object\n",
      " 7   ExperienceInCurrentDomain  4653 non-null   int64 \n",
      " 8   LeaveOrNot                 4653 non-null   int64 \n",
      "dtypes: int64(5), object(4)\n",
      "memory usage: 327.3+ KB\n"
     ]
    }
   ],
   "source": [
    "df.info()"
   ]
  },
  {
   "cell_type": "code",
   "execution_count": 8,
   "id": "e8a6da99",
   "metadata": {},
   "outputs": [
    {
     "data": {
      "text/plain": [
       "(4653, 9)"
      ]
     },
     "execution_count": 8,
     "metadata": {},
     "output_type": "execute_result"
    }
   ],
   "source": [
    "df.shape"
   ]
  },
  {
   "cell_type": "code",
   "execution_count": 9,
   "id": "1d018948",
   "metadata": {},
   "outputs": [
    {
     "data": {
      "text/html": [
       "<div>\n",
       "<style scoped>\n",
       "    .dataframe tbody tr th:only-of-type {\n",
       "        vertical-align: middle;\n",
       "    }\n",
       "\n",
       "    .dataframe tbody tr th {\n",
       "        vertical-align: top;\n",
       "    }\n",
       "\n",
       "    .dataframe thead th {\n",
       "        text-align: right;\n",
       "    }\n",
       "</style>\n",
       "<table border=\"1\" class=\"dataframe\">\n",
       "  <thead>\n",
       "    <tr style=\"text-align: right;\">\n",
       "      <th></th>\n",
       "      <th>JoiningYear</th>\n",
       "      <th>PaymentTier</th>\n",
       "      <th>Age</th>\n",
       "      <th>ExperienceInCurrentDomain</th>\n",
       "      <th>LeaveOrNot</th>\n",
       "    </tr>\n",
       "  </thead>\n",
       "  <tbody>\n",
       "    <tr>\n",
       "      <th>count</th>\n",
       "      <td>4653.000000</td>\n",
       "      <td>4653.000000</td>\n",
       "      <td>4653.000000</td>\n",
       "      <td>4653.000000</td>\n",
       "      <td>4653.000000</td>\n",
       "    </tr>\n",
       "    <tr>\n",
       "      <th>mean</th>\n",
       "      <td>2015.062970</td>\n",
       "      <td>2.698259</td>\n",
       "      <td>29.393295</td>\n",
       "      <td>2.905652</td>\n",
       "      <td>0.343864</td>\n",
       "    </tr>\n",
       "    <tr>\n",
       "      <th>std</th>\n",
       "      <td>1.863377</td>\n",
       "      <td>0.561435</td>\n",
       "      <td>4.826087</td>\n",
       "      <td>1.558240</td>\n",
       "      <td>0.475047</td>\n",
       "    </tr>\n",
       "    <tr>\n",
       "      <th>min</th>\n",
       "      <td>2012.000000</td>\n",
       "      <td>1.000000</td>\n",
       "      <td>22.000000</td>\n",
       "      <td>0.000000</td>\n",
       "      <td>0.000000</td>\n",
       "    </tr>\n",
       "    <tr>\n",
       "      <th>25%</th>\n",
       "      <td>2013.000000</td>\n",
       "      <td>3.000000</td>\n",
       "      <td>26.000000</td>\n",
       "      <td>2.000000</td>\n",
       "      <td>0.000000</td>\n",
       "    </tr>\n",
       "    <tr>\n",
       "      <th>50%</th>\n",
       "      <td>2015.000000</td>\n",
       "      <td>3.000000</td>\n",
       "      <td>28.000000</td>\n",
       "      <td>3.000000</td>\n",
       "      <td>0.000000</td>\n",
       "    </tr>\n",
       "    <tr>\n",
       "      <th>75%</th>\n",
       "      <td>2017.000000</td>\n",
       "      <td>3.000000</td>\n",
       "      <td>32.000000</td>\n",
       "      <td>4.000000</td>\n",
       "      <td>1.000000</td>\n",
       "    </tr>\n",
       "    <tr>\n",
       "      <th>max</th>\n",
       "      <td>2018.000000</td>\n",
       "      <td>3.000000</td>\n",
       "      <td>41.000000</td>\n",
       "      <td>7.000000</td>\n",
       "      <td>1.000000</td>\n",
       "    </tr>\n",
       "  </tbody>\n",
       "</table>\n",
       "</div>"
      ],
      "text/plain": [
       "       JoiningYear  PaymentTier          Age  ExperienceInCurrentDomain  \\\n",
       "count  4653.000000  4653.000000  4653.000000                4653.000000   \n",
       "mean   2015.062970     2.698259    29.393295                   2.905652   \n",
       "std       1.863377     0.561435     4.826087                   1.558240   \n",
       "min    2012.000000     1.000000    22.000000                   0.000000   \n",
       "25%    2013.000000     3.000000    26.000000                   2.000000   \n",
       "50%    2015.000000     3.000000    28.000000                   3.000000   \n",
       "75%    2017.000000     3.000000    32.000000                   4.000000   \n",
       "max    2018.000000     3.000000    41.000000                   7.000000   \n",
       "\n",
       "        LeaveOrNot  \n",
       "count  4653.000000  \n",
       "mean      0.343864  \n",
       "std       0.475047  \n",
       "min       0.000000  \n",
       "25%       0.000000  \n",
       "50%       0.000000  \n",
       "75%       1.000000  \n",
       "max       1.000000  "
      ]
     },
     "execution_count": 9,
     "metadata": {},
     "output_type": "execute_result"
    }
   ],
   "source": [
    "df.describe()"
   ]
  },
  {
   "cell_type": "markdown",
   "id": "5fbc1602",
   "metadata": {},
   "source": [
    "### Checking missing data"
   ]
  },
  {
   "cell_type": "code",
   "execution_count": 10,
   "id": "2efa99bc",
   "metadata": {},
   "outputs": [
    {
     "name": "stdout",
     "output_type": "stream",
     "text": [
      "Education 0\n",
      "JoiningYear 0\n",
      "City 0\n",
      "PaymentTier 0\n",
      "Age 0\n",
      "Gender 0\n",
      "EverBenched 0\n",
      "ExperienceInCurrentDomain 0\n",
      "LeaveOrNot 0\n"
     ]
    }
   ],
   "source": [
    "col_name = df.columns.to_list()\n",
    "for col in col_name : \n",
    "    print(col, df[col].isnull().sum())"
   ]
  },
  {
   "cell_type": "markdown",
   "id": "debe9e6f",
   "metadata": {},
   "source": [
    "### Gender distribution of employee"
   ]
  },
  {
   "cell_type": "code",
   "execution_count": 11,
   "id": "98abaccf",
   "metadata": {},
   "outputs": [
    {
     "data": {
      "text/html": [
       "<div>\n",
       "<style scoped>\n",
       "    .dataframe tbody tr th:only-of-type {\n",
       "        vertical-align: middle;\n",
       "    }\n",
       "\n",
       "    .dataframe tbody tr th {\n",
       "        vertical-align: top;\n",
       "    }\n",
       "\n",
       "    .dataframe thead th {\n",
       "        text-align: right;\n",
       "    }\n",
       "</style>\n",
       "<table border=\"1\" class=\"dataframe\">\n",
       "  <thead>\n",
       "    <tr style=\"text-align: right;\">\n",
       "      <th></th>\n",
       "      <th>Gender</th>\n",
       "    </tr>\n",
       "    <tr>\n",
       "      <th>Gender</th>\n",
       "      <th></th>\n",
       "    </tr>\n",
       "  </thead>\n",
       "  <tbody>\n",
       "    <tr>\n",
       "      <th>Female</th>\n",
       "      <td>1875</td>\n",
       "    </tr>\n",
       "    <tr>\n",
       "      <th>Male</th>\n",
       "      <td>2778</td>\n",
       "    </tr>\n",
       "  </tbody>\n",
       "</table>\n",
       "</div>"
      ],
      "text/plain": [
       "        Gender\n",
       "Gender        \n",
       "Female    1875\n",
       "Male      2778"
      ]
     },
     "execution_count": 11,
     "metadata": {},
     "output_type": "execute_result"
    }
   ],
   "source": [
    "df_gen = df.groupby('Gender')[['Gender']].count()\n",
    "df_gen.head()"
   ]
  },
  {
   "cell_type": "code",
   "execution_count": 12,
   "id": "173b7081",
   "metadata": {},
   "outputs": [
    {
     "data": {
      "image/png": "[encoded data removed]",
      "text/plain": [
       "<Figure size 640x480 with 1 Axes>"
      ]
     },
     "metadata": {},
     "output_type": "display_data"
    }
   ],
   "source": [
    "df_gen.plot(kind='pie', y='Gender', colors=['#d02670','#0f62fe'], autopct='%1.2f%%', shadow=True)\n",
    "plt.title('Pie Plot - Gender Distribution of Employees', fontsize='16')\n",
    "plt.legend(loc=4, fontsize=13)\n",
    "plt.ylabel('')\n",
    "plt.show()"
   ]
  },
  {
   "cell_type": "markdown",
   "id": "a48e7bdf",
   "metadata": {},
   "source": [
    "### Distribution of educational qualifications"
   ]
  },
  {
   "cell_type": "code",
   "execution_count": 13,
   "id": "f77d03db",
   "metadata": {},
   "outputs": [
    {
     "name": "stdout",
     "output_type": "stream",
     "text": [
      "Qualification levels: ['Bachelors' 'Masters' 'PHD']\n"
     ]
    }
   ],
   "source": [
    "print('Qualification levels:',df['Education'].unique())"
   ]
  },
  {
   "cell_type": "code",
   "execution_count": 14,
   "id": "a6446a9b",
   "metadata": {},
   "outputs": [
    {
     "data": {
      "text/plain": [
       "Education\n",
       "Bachelors    3601\n",
       "Masters       873\n",
       "PHD           179\n",
       "Name: Education, dtype: int64"
      ]
     },
     "execution_count": 14,
     "metadata": {},
     "output_type": "execute_result"
    }
   ],
   "source": [
    "df_ed=df.groupby('Education')['Education'].count()\n",
    "df_ed.head()"
   ]
  },
  {
   "cell_type": "code",
   "execution_count": 15,
   "id": "1dbd0fe7",
   "metadata": {},
   "outputs": [
    {
     "data": {
      "text/plain": [
       "Text(0.5, 1.0, 'Bar Plot - Distribution of Educational Qualifications')"
      ]
     },
     "execution_count": 15,
     "metadata": {},
     "output_type": "execute_result"
    },
    {
     "data": {
      "image/png": "[encoded data removed]",
      "text/plain": [
       "<Figure size 640x480 with 1 Axes>"
      ]
     },
     "metadata": {},
     "output_type": "display_data"
    }
   ],
   "source": [
    "df_ed.plot(kind='bar', x='Education', color=['#a6c8ff','#3ddbd9','#6fdc8c'])\n",
    "plt.xticks(rotation=0, fontsize=13)\n",
    "plt.yticks(fontsize=13)\n",
    "plt.xlabel('Education Level',fontsize='16', style='italic')\n",
    "plt.ylabel('Number of Employee', fontsize='16', style='italic')\n",
    "plt.title('Bar Plot - Distribution of Educational Qualifications', fontsize='16')"
   ]
  },
  {
   "cell_type": "markdown",
   "id": "3308d8ef",
   "metadata": {},
   "source": [
    "### Distribution of educational qualifications by gender"
   ]
  },
  {
   "cell_type": "code",
   "execution_count": 16,
   "id": "f62e60b0",
   "metadata": {},
   "outputs": [
    {
     "data": {
      "text/html": [
       "<div>\n",
       "<style scoped>\n",
       "    .dataframe tbody tr th:only-of-type {\n",
       "        vertical-align: middle;\n",
       "    }\n",
       "\n",
       "    .dataframe tbody tr th {\n",
       "        vertical-align: top;\n",
       "    }\n",
       "\n",
       "    .dataframe thead th {\n",
       "        text-align: right;\n",
       "    }\n",
       "</style>\n",
       "<table border=\"1\" class=\"dataframe\">\n",
       "  <thead>\n",
       "    <tr style=\"text-align: right;\">\n",
       "      <th></th>\n",
       "      <th></th>\n",
       "      <th>Count</th>\n",
       "    </tr>\n",
       "    <tr>\n",
       "      <th>Education</th>\n",
       "      <th>Gender</th>\n",
       "      <th></th>\n",
       "    </tr>\n",
       "  </thead>\n",
       "  <tbody>\n",
       "    <tr>\n",
       "      <th rowspan=\"2\" valign=\"top\">Bachelors</th>\n",
       "      <th>Female</th>\n",
       "      <td>1435</td>\n",
       "    </tr>\n",
       "    <tr>\n",
       "      <th>Male</th>\n",
       "      <td>2166</td>\n",
       "    </tr>\n",
       "    <tr>\n",
       "      <th rowspan=\"2\" valign=\"top\">Masters</th>\n",
       "      <th>Female</th>\n",
       "      <td>371</td>\n",
       "    </tr>\n",
       "    <tr>\n",
       "      <th>Male</th>\n",
       "      <td>502</td>\n",
       "    </tr>\n",
       "    <tr>\n",
       "      <th rowspan=\"2\" valign=\"top\">PHD</th>\n",
       "      <th>Female</th>\n",
       "      <td>69</td>\n",
       "    </tr>\n",
       "    <tr>\n",
       "      <th>Male</th>\n",
       "      <td>110</td>\n",
       "    </tr>\n",
       "  </tbody>\n",
       "</table>\n",
       "</div>"
      ],
      "text/plain": [
       "                  Count\n",
       "Education Gender       \n",
       "Bachelors Female   1435\n",
       "          Male     2166\n",
       "Masters   Female    371\n",
       "          Male      502\n",
       "PHD       Female     69\n",
       "          Male      110"
      ]
     },
     "execution_count": 16,
     "metadata": {},
     "output_type": "execute_result"
    }
   ],
   "source": [
    "df_ed_gender=df.groupby(['Education','Gender'])[['Gender']].count()\n",
    "df_ed_gender.rename(columns={'Gender':'Count'}, inplace=True)\n",
    "df_ed_gender.head(10)"
   ]
  },
  {
   "cell_type": "code",
   "execution_count": 17,
   "id": "67832a84",
   "metadata": {},
   "outputs": [],
   "source": [
    "df_ed_gender.reset_index(inplace=True)"
   ]
  },
  {
   "cell_type": "code",
   "execution_count": 18,
   "id": "6603b68d",
   "metadata": {},
   "outputs": [
    {
     "data": {
      "image/png": "[encoded data removed]",
      "text/plain": [
       "<Figure size 640x480 with 1 Axes>"
      ]
     },
     "metadata": {},
     "output_type": "display_data"
    }
   ],
   "source": [
    "palette = {'Female':'#d02670','Male':'#0f62fe'}\n",
    "sns.barplot(data=df_ed_gender, x='Education', y='Count', hue='Gender', palette=palette)\n",
    "plt.xticks(rotation=0, fontsize=13)\n",
    "plt.yticks(fontsize=13)\n",
    "plt.legend(fontsize=13)\n",
    "plt.xlabel('Education Level',fontsize='16', style='italic')\n",
    "plt.ylabel('Number of Employee', fontsize='16', style='italic')\n",
    "plt.title('Bar Plot - Distribution of Educational Qualifications by Gender', fontsize='16')\n",
    "plt.show()"
   ]
  },
  {
   "cell_type": "markdown",
   "id": "00c60846",
   "metadata": {},
   "source": [
    "### Distribution of recruitment over the years"
   ]
  },
  {
   "cell_type": "code",
   "execution_count": 19,
   "id": "f22de665",
   "metadata": {},
   "outputs": [
    {
     "data": {
      "text/html": [
       "<div>\n",
       "<style scoped>\n",
       "    .dataframe tbody tr th:only-of-type {\n",
       "        vertical-align: middle;\n",
       "    }\n",
       "\n",
       "    .dataframe tbody tr th {\n",
       "        vertical-align: top;\n",
       "    }\n",
       "\n",
       "    .dataframe thead th {\n",
       "        text-align: right;\n",
       "    }\n",
       "</style>\n",
       "<table border=\"1\" class=\"dataframe\">\n",
       "  <thead>\n",
       "    <tr style=\"text-align: right;\">\n",
       "      <th></th>\n",
       "      <th>JoiningYear</th>\n",
       "      <th>Count</th>\n",
       "    </tr>\n",
       "  </thead>\n",
       "  <tbody>\n",
       "    <tr>\n",
       "      <th>0</th>\n",
       "      <td>2012</td>\n",
       "      <td>504</td>\n",
       "    </tr>\n",
       "    <tr>\n",
       "      <th>1</th>\n",
       "      <td>2013</td>\n",
       "      <td>669</td>\n",
       "    </tr>\n",
       "    <tr>\n",
       "      <th>2</th>\n",
       "      <td>2014</td>\n",
       "      <td>699</td>\n",
       "    </tr>\n",
       "    <tr>\n",
       "      <th>3</th>\n",
       "      <td>2015</td>\n",
       "      <td>781</td>\n",
       "    </tr>\n",
       "    <tr>\n",
       "      <th>4</th>\n",
       "      <td>2016</td>\n",
       "      <td>525</td>\n",
       "    </tr>\n",
       "    <tr>\n",
       "      <th>5</th>\n",
       "      <td>2017</td>\n",
       "      <td>1108</td>\n",
       "    </tr>\n",
       "  </tbody>\n",
       "</table>\n",
       "</div>"
      ],
      "text/plain": [
       "   JoiningYear  Count\n",
       "0         2012    504\n",
       "1         2013    669\n",
       "2         2014    699\n",
       "3         2015    781\n",
       "4         2016    525\n",
       "5         2017   1108"
      ]
     },
     "execution_count": 19,
     "metadata": {},
     "output_type": "execute_result"
    }
   ],
   "source": [
    "df_join = df.groupby(['JoiningYear'])[['JoiningYear']].count()\n",
    "df_join.rename(columns={'JoiningYear':'Count'}, inplace=True)\n",
    "df_join.reset_index(inplace=True)\n",
    "df_join.head(6)"
   ]
  },
  {
   "cell_type": "code",
   "execution_count": 20,
   "id": "eb7c37d0",
   "metadata": {},
   "outputs": [
    {
     "data": {
      "image/png": "[encoded data removed]",
      "text/plain": [
       "<Figure size 640x480 with 1 Axes>"
      ]
     },
     "metadata": {},
     "output_type": "display_data"
    }
   ],
   "source": [
    "df_join.plot(kind='line', x='JoiningYear', y='Count', color=['#1192e8'])\n",
    "plt.xticks(rotation=0, fontsize=13)\n",
    "plt.yticks(fontsize=13)\n",
    "plt.xlabel('Year',fontsize='16', style='italic')\n",
    "plt.ylabel('Number of Employee', fontsize='16', style='italic')\n",
    "plt.title('Horizontal Bar Plot - Recruited Number of Employee over the Years', fontsize='16')\n",
    "plt.show()"
   ]
  },
  {
   "cell_type": "markdown",
   "id": "76d77792",
   "metadata": {},
   "source": [
    "### Correlation between experience in current domain and payment tier"
   ]
  },
  {
   "cell_type": "code",
   "execution_count": 21,
   "id": "2af63d2e",
   "metadata": {},
   "outputs": [
    {
     "data": {
      "text/html": [
       "<div>\n",
       "<style scoped>\n",
       "    .dataframe tbody tr th:only-of-type {\n",
       "        vertical-align: middle;\n",
       "    }\n",
       "\n",
       "    .dataframe tbody tr th {\n",
       "        vertical-align: top;\n",
       "    }\n",
       "\n",
       "    .dataframe thead th {\n",
       "        text-align: right;\n",
       "    }\n",
       "</style>\n",
       "<table border=\"1\" class=\"dataframe\">\n",
       "  <thead>\n",
       "    <tr style=\"text-align: right;\">\n",
       "      <th></th>\n",
       "      <th>ExperienceInCurrentDomain</th>\n",
       "      <th>PaymentTier</th>\n",
       "    </tr>\n",
       "  </thead>\n",
       "  <tbody>\n",
       "    <tr>\n",
       "      <th>ExperienceInCurrentDomain</th>\n",
       "      <td>1.000000</td>\n",
       "      <td>0.018314</td>\n",
       "    </tr>\n",
       "    <tr>\n",
       "      <th>PaymentTier</th>\n",
       "      <td>0.018314</td>\n",
       "      <td>1.000000</td>\n",
       "    </tr>\n",
       "  </tbody>\n",
       "</table>\n",
       "</div>"
      ],
      "text/plain": [
       "                           ExperienceInCurrentDomain  PaymentTier\n",
       "ExperienceInCurrentDomain                   1.000000     0.018314\n",
       "PaymentTier                                 0.018314     1.000000"
      ]
     },
     "execution_count": 21,
     "metadata": {},
     "output_type": "execute_result"
    }
   ],
   "source": [
    "df[['ExperienceInCurrentDomain', 'PaymentTier']].corr(method='pearson')"
   ]
  },
  {
   "cell_type": "code",
   "execution_count": 22,
   "id": "7af930ae",
   "metadata": {},
   "outputs": [
    {
     "data": {
      "image/png": "[encoded data removed]",
      "text/plain": [
       "<Figure size 500x500 with 1 Axes>"
      ]
     },
     "metadata": {},
     "output_type": "display_data"
    }
   ],
   "source": [
    "sns.catplot(data=df[['ExperienceInCurrentDomain', 'PaymentTier']], x='ExperienceInCurrentDomain', y='PaymentTier')\n",
    "plt.xticks(rotation=0, fontsize=13)\n",
    "plt.yticks(fontsize=13)\n",
    "plt.xlabel('Year',fontsize='16', style='italic')\n",
    "plt.ylabel('Payment Tier', fontsize='16', style='italic')\n",
    "plt.title('Categorical Scatter Plot - Experience in Current Domain vs. Year', fontsize='16')\n",
    "plt.show()"
   ]
  },
  {
   "cell_type": "markdown",
   "id": "3d9558d9",
   "metadata": {},
   "source": [
    "### The tendency of employees  to take leave "
   ]
  },
  {
   "cell_type": "code",
   "execution_count": 23,
   "id": "8e12ec12",
   "metadata": {},
   "outputs": [
    {
     "ename": "ValueError",
     "evalue": "could not convert string to float: 'Bachelors'",
     "output_type": "error",
     "traceback": [
      "\u001b[0;31m---------------------------------------------------------------------------\u001b[0m",
      "\u001b[0;31mValueError\u001b[0m                                Traceback (most recent call last)",
      "Cell \u001b[0;32mIn[23], line 1\u001b[0m\n\u001b[0;32m----> 1\u001b[0m \u001b[43mdf\u001b[49m\u001b[38;5;241;43m.\u001b[39;49m\u001b[43mcorr\u001b[49m\u001b[43m(\u001b[49m\u001b[43m)\u001b[49m[\u001b[38;5;124m'\u001b[39m\u001b[38;5;124mLeaveOrNot\u001b[39m\u001b[38;5;124m'\u001b[39m]\n",
      "File \u001b[0;32m/usr/local/lib/python3.9/site-packages/pandas/core/frame.py:10707\u001b[0m, in \u001b[0;36mDataFrame.corr\u001b[0;34m(self, method, min_periods, numeric_only)\u001b[0m\n\u001b[1;32m  10705\u001b[0m cols \u001b[38;5;241m=\u001b[39m data\u001b[38;5;241m.\u001b[39mcolumns\n\u001b[1;32m  10706\u001b[0m idx \u001b[38;5;241m=\u001b[39m cols\u001b[38;5;241m.\u001b[39mcopy()\n\u001b[0;32m> 10707\u001b[0m mat \u001b[38;5;241m=\u001b[39m \u001b[43mdata\u001b[49m\u001b[38;5;241;43m.\u001b[39;49m\u001b[43mto_numpy\u001b[49m\u001b[43m(\u001b[49m\u001b[43mdtype\u001b[49m\u001b[38;5;241;43m=\u001b[39;49m\u001b[38;5;28;43mfloat\u001b[39;49m\u001b[43m,\u001b[49m\u001b[43m \u001b[49m\u001b[43mna_value\u001b[49m\u001b[38;5;241;43m=\u001b[39;49m\u001b[43mnp\u001b[49m\u001b[38;5;241;43m.\u001b[39;49m\u001b[43mnan\u001b[49m\u001b[43m,\u001b[49m\u001b[43m \u001b[49m\u001b[43mcopy\u001b[49m\u001b[38;5;241;43m=\u001b[39;49m\u001b[38;5;28;43;01mFalse\u001b[39;49;00m\u001b[43m)\u001b[49m\n\u001b[1;32m  10709\u001b[0m \u001b[38;5;28;01mif\u001b[39;00m method \u001b[38;5;241m==\u001b[39m \u001b[38;5;124m\"\u001b[39m\u001b[38;5;124mpearson\u001b[39m\u001b[38;5;124m\"\u001b[39m:\n\u001b[1;32m  10710\u001b[0m     correl \u001b[38;5;241m=\u001b[39m libalgos\u001b[38;5;241m.\u001b[39mnancorr(mat, minp\u001b[38;5;241m=\u001b[39mmin_periods)\n",
      "File \u001b[0;32m/usr/local/lib/python3.9/site-packages/pandas/core/frame.py:1892\u001b[0m, in \u001b[0;36mDataFrame.to_numpy\u001b[0;34m(self, dtype, copy, na_value)\u001b[0m\n\u001b[1;32m   1890\u001b[0m \u001b[38;5;28;01mif\u001b[39;00m dtype \u001b[38;5;129;01mis\u001b[39;00m \u001b[38;5;129;01mnot\u001b[39;00m \u001b[38;5;28;01mNone\u001b[39;00m:\n\u001b[1;32m   1891\u001b[0m     dtype \u001b[38;5;241m=\u001b[39m np\u001b[38;5;241m.\u001b[39mdtype(dtype)\n\u001b[0;32m-> 1892\u001b[0m result \u001b[38;5;241m=\u001b[39m \u001b[38;5;28;43mself\u001b[39;49m\u001b[38;5;241;43m.\u001b[39;49m\u001b[43m_mgr\u001b[49m\u001b[38;5;241;43m.\u001b[39;49m\u001b[43mas_array\u001b[49m\u001b[43m(\u001b[49m\u001b[43mdtype\u001b[49m\u001b[38;5;241;43m=\u001b[39;49m\u001b[43mdtype\u001b[49m\u001b[43m,\u001b[49m\u001b[43m \u001b[49m\u001b[43mcopy\u001b[49m\u001b[38;5;241;43m=\u001b[39;49m\u001b[43mcopy\u001b[49m\u001b[43m,\u001b[49m\u001b[43m \u001b[49m\u001b[43mna_value\u001b[49m\u001b[38;5;241;43m=\u001b[39;49m\u001b[43mna_value\u001b[49m\u001b[43m)\u001b[49m\n\u001b[1;32m   1893\u001b[0m \u001b[38;5;28;01mif\u001b[39;00m result\u001b[38;5;241m.\u001b[39mdtype \u001b[38;5;129;01mis\u001b[39;00m \u001b[38;5;129;01mnot\u001b[39;00m dtype:\n\u001b[1;32m   1894\u001b[0m     result \u001b[38;5;241m=\u001b[39m np\u001b[38;5;241m.\u001b[39marray(result, dtype\u001b[38;5;241m=\u001b[39mdtype, copy\u001b[38;5;241m=\u001b[39m\u001b[38;5;28;01mFalse\u001b[39;00m)\n",
      "File \u001b[0;32m/usr/local/lib/python3.9/site-packages/pandas/core/internals/managers.py:1656\u001b[0m, in \u001b[0;36mBlockManager.as_array\u001b[0;34m(self, dtype, copy, na_value)\u001b[0m\n\u001b[1;32m   1654\u001b[0m         arr\u001b[38;5;241m.\u001b[39mflags\u001b[38;5;241m.\u001b[39mwriteable \u001b[38;5;241m=\u001b[39m \u001b[38;5;28;01mFalse\u001b[39;00m\n\u001b[1;32m   1655\u001b[0m \u001b[38;5;28;01melse\u001b[39;00m:\n\u001b[0;32m-> 1656\u001b[0m     arr \u001b[38;5;241m=\u001b[39m \u001b[38;5;28;43mself\u001b[39;49m\u001b[38;5;241;43m.\u001b[39;49m\u001b[43m_interleave\u001b[49m\u001b[43m(\u001b[49m\u001b[43mdtype\u001b[49m\u001b[38;5;241;43m=\u001b[39;49m\u001b[43mdtype\u001b[49m\u001b[43m,\u001b[49m\u001b[43m \u001b[49m\u001b[43mna_value\u001b[49m\u001b[38;5;241;43m=\u001b[39;49m\u001b[43mna_value\u001b[49m\u001b[43m)\u001b[49m\n\u001b[1;32m   1657\u001b[0m     \u001b[38;5;66;03m# The underlying data was copied within _interleave, so no need\u001b[39;00m\n\u001b[1;32m   1658\u001b[0m     \u001b[38;5;66;03m# to further copy if copy=True or setting na_value\u001b[39;00m\n\u001b[1;32m   1660\u001b[0m \u001b[38;5;28;01mif\u001b[39;00m na_value \u001b[38;5;129;01mis\u001b[39;00m lib\u001b[38;5;241m.\u001b[39mno_default:\n",
      "File \u001b[0;32m/usr/local/lib/python3.9/site-packages/pandas/core/internals/managers.py:1715\u001b[0m, in \u001b[0;36mBlockManager._interleave\u001b[0;34m(self, dtype, na_value)\u001b[0m\n\u001b[1;32m   1713\u001b[0m     \u001b[38;5;28;01melse\u001b[39;00m:\n\u001b[1;32m   1714\u001b[0m         arr \u001b[38;5;241m=\u001b[39m blk\u001b[38;5;241m.\u001b[39mget_values(dtype)\n\u001b[0;32m-> 1715\u001b[0m     \u001b[43mresult\u001b[49m\u001b[43m[\u001b[49m\u001b[43mrl\u001b[49m\u001b[38;5;241;43m.\u001b[39;49m\u001b[43mindexer\u001b[49m\u001b[43m]\u001b[49m \u001b[38;5;241m=\u001b[39m arr\n\u001b[1;32m   1716\u001b[0m     itemmask[rl\u001b[38;5;241m.\u001b[39mindexer] \u001b[38;5;241m=\u001b[39m \u001b[38;5;241m1\u001b[39m\n\u001b[1;32m   1718\u001b[0m \u001b[38;5;28;01mif\u001b[39;00m \u001b[38;5;129;01mnot\u001b[39;00m itemmask\u001b[38;5;241m.\u001b[39mall():\n",
      "\u001b[0;31mValueError\u001b[0m: could not convert string to float: 'Bachelors'"
     ]
    }
   ],
   "source": [
    "df.corr()['LeaveOrNot']"
   ]
  },
  {
   "cell_type": "code",
   "execution_count": null,
   "id": "1295a2dd",
   "metadata": {},
   "outputs": [],
   "source": [
    "df.columns"
   ]
  },
  {
   "cell_type": "code",
   "execution_count": null,
   "id": "5ad708a7",
   "metadata": {},
   "outputs": [],
   "source": [
    "df_lE=df.groupby(['Education','LeaveOrNot'])[['Education']].count()\n",
    "df_lE.rename(columns={'Education':'Count'}, inplace=True)\n",
    "df_lE.reset_index(inplace=True)\n",
    "df_lE"
   ]
  },
  {
   "cell_type": "code",
   "execution_count": null,
   "id": "33d6548d",
   "metadata": {},
   "outputs": [],
   "source": [
    "fig, ax = plt.subplots(1,3,figsize=(10, 7))\n",
    "ax[0].pie(df_lE.iloc[0:2,2], labels=['Not leave', 'Leave'] ,colors=['#fff0f7','#defbe6'], autopct='%1.2f%%', shadow=True)\n",
    "ax[0].set_title('Tendency of BSc to take leave (1)', fontsize='10')\n",
    "\n",
    "ax[1].pie(df_lE.iloc[2:4,2], labels=['Not leave', 'Leave'] ,colors=['#fff0f7','#defbe6'], autopct='%1.2f%%', shadow=True)\n",
    "ax[1].set_title('Tendency of MSc to take leave (1)', fontsize='10')\n",
    "\n",
    "ax[2].pie(df_lE.iloc[4:6,2], labels=['Not leave', 'Leave'] ,colors=['#fff0f7','#defbe6'], autopct='%1.2f%%', shadow=True)\n",
    "ax[2].set_title('Tendency of PhD to take leave (1)', fontsize='10')\n",
    "\n",
    "plt.show()"
   ]
  },
  {
   "cell_type": "code",
   "execution_count": null,
   "id": "1be49c8a",
   "metadata": {},
   "outputs": [],
   "source": [
    "df_lCity=df.groupby(['City','LeaveOrNot'])[['City']].count()\n",
    "df_lCity.rename(columns={'City':'Count'}, inplace=True)\n",
    "df_lCity.reset_index(inplace=True)\n",
    "df_lCity"
   ]
  },
  {
   "cell_type": "code",
   "execution_count": null,
   "id": "862b4edc",
   "metadata": {},
   "outputs": [],
   "source": [
    "fig, ax = plt.subplots(1,3,figsize=(10, 15))\n",
    "ax[0].pie(df_lCity.iloc[0:2,2], labels=['Not leave', 'Leave'] ,colors=['#d9fbfb','#f6f2ff'], autopct='%1.2f%%', shadow=True)\n",
    "ax[0].set_title('Employees in Bangalore ', fontsize='10')\n",
    "\n",
    "ax[1].pie(df_lCity.iloc[2:4,2], labels=['Not leave', 'Leave'] ,colors=['#d9fbfb','#f6f2ff'], autopct='%1.2f%%', shadow=True)\n",
    "ax[1].set_title('Employees in New Delhi', fontsize='10')\n",
    "\n",
    "ax[2].pie(df_lCity.iloc[4:6,2], labels=['Not leave', 'Leave'] ,colors=['#d9fbfb','#f6f2ff'], autopct='%1.2f%%', shadow=True)\n",
    "ax[2].set_title('Employees in Pune', fontsize='10')\n",
    "\n",
    "plt.show()\n",
    "\n"
   ]
  },
  {
   "cell_type": "code",
   "execution_count": null,
   "id": "e20945e8",
   "metadata": {},
   "outputs": [],
   "source": [
    "df_lGender=df.groupby(['Gender','LeaveOrNot'])[['Gender']].count()\n",
    "df_lGender.rename(columns={'Gender':'Count'}, inplace=True)\n",
    "df_lGender.reset_index(inplace=True)\n",
    "df_lGender"
   ]
  },
  {
   "cell_type": "code",
   "execution_count": null,
   "id": "44434317",
   "metadata": {},
   "outputs": [],
   "source": [
    "fig, ax = plt.subplots(1,2,figsize=(10, 7))\n",
    "ax[0].pie(df_lGender.iloc[0:2,2], labels=['Not leave', 'Leave'] ,colors=['#82cfff','#6fdc8c'], autopct='%1.2f%%', shadow=True)\n",
    "ax[0].set_title('Female Employees', fontsize='10')\n",
    "\n",
    "ax[1].pie(df_lGender.iloc[2:4,2], labels=['Not leave', 'Leave'] ,colors=['#82cfff','#6fdc8c'], autopct='%1.2f%%', shadow=True)\n",
    "ax[1].set_title('Male Employees', fontsize='10')\n",
    "\n",
    "\n",
    "plt.show()\n",
    "\n"
   ]
  },
  {
   "cell_type": "code",
   "execution_count": null,
   "id": "90c8fa25",
   "metadata": {},
   "outputs": [],
   "source": [
    "df_lEB=df.groupby(['EverBenched','LeaveOrNot'])[['EverBenched']].count()\n",
    "df_lEB.rename(columns={'EverBenched':'Count'}, inplace=True)\n",
    "df_lEB.reset_index(inplace=True)\n",
    "df_lEB"
   ]
  },
  {
   "cell_type": "code",
   "execution_count": null,
   "id": "53599cb1",
   "metadata": {},
   "outputs": [],
   "source": [
    "fig, ax = plt.subplots(1,2,figsize=(10, 7))\n",
    "ax[0].pie(df_lEB.iloc[0:2,2], labels=['Not leave', 'Leave'] ,colors=['#82cfff','#6fdc8c'], autopct='%1.2f%%', shadow=True)\n",
    "ax[0].set_title('No Benched Employees', fontsize='10')\n",
    "\n",
    "ax[1].pie(df_lEB.iloc[2:4,2], labels=['Not leave', 'Leave'] ,colors=['#82cfff','#6fdc8c'], autopct='%1.2f%%', shadow=True)\n",
    "ax[1].set_title('Benched Employees', fontsize='10')\n",
    "\n",
    "\n",
    "plt.show()\n",
    "\n",
    "\n"
   ]
  },
  {
   "cell_type": "code",
   "execution_count": null,
   "id": "e98f8056",
   "metadata": {},
   "outputs": [],
   "source": [
    "df_lEB.iloc[0:2,:].plot(kind='pie',y='Count',colors=['#d9fbfb','#defbe6'], autopct='%1.2f%%', shadow=True, labels=['Not leave', 'Leave'])\n",
    "plt.title('No Benched Employee to take leave (1)')\n",
    "plt.legend(['Not leave', 'Leave'])\n",
    "plt.ylabel('% Dist.')\n",
    "plt.show()"
   ]
  },
  {
   "cell_type": "code",
   "execution_count": null,
   "id": "32f0a12b",
   "metadata": {},
   "outputs": [],
   "source": [
    "df_lEB.iloc[2:4,:].plot(kind='pie',y='Count',colors=['#d9fbfb','#defbe6'], autopct='%1.2f%%', shadow=True, labels=['Not leave', 'Leave'])\n",
    "plt.title('Benched Employee to take leave (1)')\n",
    "plt.legend(['Not leave', 'Leave'])\n",
    "plt.ylabel('% Dist.')\n",
    "plt.show()"
   ]
  },
  {
   "cell_type": "markdown",
   "id": "02dd65da",
   "metadata": {},
   "source": [
    "## Results and discussion"
   ]
  },
  {
   "cell_type": "markdown",
   "id": "1aced1a9",
   "metadata": {},
   "source": [
    "The employee dataset was retrieved from This data is retrieved from https://www.kaggle.com/datasets/tawfikelmetwally/employee-dataset under the license of CC9: Public Domain with usability of 9.41. The dataset consists of 4653 rows and 9 columns without any missing entries. As no unique identifiers in the dataset indicate duplicated entries, duplicates were not spotted. \n",
    "\n",
    "In the company, 59.70% of employees are male, whereas female employees account for 40.30% of the company. Hence, male employees are prevalent in the company.\n",
    "\n",
    "The educational qualification distribution shows that 3601 employees hold a BSc degree, whereas 873 and 179 employees have MSc and PhD degrees, respectively. Thus, the majority of employees have a BSc degree alone.\n",
    "\n",
    "The most of the employees, a total of 1108, were recruited in 2017. \n",
    "\n",
    "The Pearson's correlation coefficient between experience in the current domain and payment tier, 0.018, shows the lack of correlation between the experience and payment. \n",
    "\n",
    "Regarding the tendency of employees to take leave, there is no strong positive/negative correlation between leave-taking behavior and joining year (0.18)/payment tier (-0.20)/age (-0.05)/experience in domain (-0.03). In addition, employees with Ph.D. degrees (25.14% of PhDs) are less prone to take leave in comparison to those with MSc (48.80% of MSc) and BSc degrees (25.14% of BSc). Moreover, employees in Bangalore (26.71% of employees in Bangalore) are less likely to take leave in comparison to ones in New Delhi (31.63% of employees therein) and Pune (50.39% of employees therein). 25.77% of males display leave-taking behavior, whereas 47.15% of females take leave. Last but not least, 33.13% of employees with any temporary tasks display leave-taking behavior, whilst 45.40% of employees without any temporary tasks prefer to leave-taking behavior."
   ]
  },
  {
   "cell_type": "markdown",
   "id": "dc0b9ea3",
   "metadata": {},
   "source": [
    "## Summary"
   ]
  },
  {
   "cell_type": "markdown",
   "id": "632b1310",
   "metadata": {},
   "source": [
    "Herein, it is aimed to address \n",
    "\n",
    "* the gender distribution\n",
    "\n",
    "* the distribution of educational qualifications among employees\n",
    "\n",
    "* the distribution of educational qualifications among employees by gender\n",
    "\n",
    "* the number of recruited employees over the years\n",
    "\n",
    "* the correlation between payment tier and experience in the current domain\n",
    "\n",
    "* patterns in leave-taking behavior among employees.\n",
    "\n",
    "The analysis of the dataset shows that the majority of employees are male. In the company, employees with a BSc degree alone are more prevalent. The majority of the current employees were recruited in 2017. No correlation between experience in the current domain and payment tier is detected in the company. \n",
    "\n",
    "Leave-taking behavior are not strongly correlated with joining year, payment tier, age, and experience in domain. However, PhDs in the company are less likely to take leave than MSc and BSc. Employees in Bangalore are the least likely to take leave compared to New Delhi and Pune. The comparison of male employees taking leave with female employees uncovers male employees display less take leave behavior. The assigned temporary task ends up with less take leave behavior."
   ]
  }
 ],
 "metadata": {
  "kernelspec": {
   "display_name": "Python 3 (ipykernel)",
   "language": "python",
   "name": "python3"
  },
  "language_info": {
   "codemirror_mode": {
    "name": "ipython",
    "version": 3
   },
   "file_extension": ".py",
   "mimetype": "text/x-python",
   "name": "python",
   "nbconvert_exporter": "python",
   "pygments_lexer": "ipython3",
   "version": "3.9.15"
  }
 },
 "nbformat": 4,
 "nbformat_minor": 5
}
